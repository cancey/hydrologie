{
 "cells": [
  {
   "cell_type": "code",
   "execution_count": null,
   "metadata": {},
   "outputs": [],
   "source": [
    "import pandas as pd\n",
    "import numpy as np\n",
    "import os\n",
    "import sys\n",
    "import datetime\n",
    "import json\n",
    "import requests\n",
    "import plotly.express as px\n",
    "import matplotlib.pyplot as plt\n",
    "from termcolor import colored                     # coloration du texte\n",
    "from scipy import stats                           # lois de probabilité (valeurs extrêmes)\n",
    "from scipy.stats import gumbel_r, genextreme      # valeurs extrêmes\n",
    "from pyextremes import EVA                        # valeurs extrêmes  \n",
    "from tabulate import tabulate                     # impression du texte dans un format tabulé\n",
    "plt.rcParams['text.usetex'] = True                # paramètres latex\n",
    "\n",
    "\n",
    "plt.rcParams['text.latex.preamble'] = '\\\\usepackage{libertine}'\n",
    "plt.rcParams.update({\n",
    "    \"text.usetex\": True,\n",
    "    #\"font.family\": \"Times New Roman\",\n",
    "    \"font.family\": \"Linux Libertine\",\n",
    "    \"font.size\": 12\n",
    "})\n",
    "# from matplotlib import rc\n",
    "# rc('font', **{'family': 'serif', 'serif': ['Computer Modern']})\n",
    "# rc('text', usetex=True)\n",
    "\n",
    "\n",
    "from matplotlib.ticker import (MultipleLocator, AutoMinorLocator)\n",
    "#plt.style.use('default')\n",
    "\n",
    "import arviz as az\n",
    "import pymc as pm\n",
    "import pymc_experimental.distributions as pmx\n",
    "import pytensor.tensor as pt\n",
    "from arviz.plots import plot_utils as azpu\n",
    "from scipy.optimize import fsolve\n",
    "import scipy.optimize as optimize\n",
    "\n",
    "################################\n",
    "## Auteur : Christoophe Ancey ##\n",
    "## Date : novembre 2024       ##\n",
    "################################"
   ]
  }
 ],
 "metadata": {
  "language_info": {
   "name": "python"
  }
 },
 "nbformat": 4,
 "nbformat_minor": 2
}
